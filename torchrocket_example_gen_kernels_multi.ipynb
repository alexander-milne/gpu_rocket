{
 "cells": [
  {
   "cell_type": "code",
   "execution_count": 1,
   "metadata": {},
   "outputs": [
    {
     "name": "stderr",
     "output_type": "stream",
     "text": [
      "c:\\Program Files\\Python\\Python38\\lib\\site-packages\\numpy\\_distributor_init.py:30: UserWarning: loaded more than 1 DLL from .libs:\n",
      "c:\\Program Files\\Python\\Python38\\lib\\site-packages\\numpy\\.libs\\libopenblas.PYQHXLVVQ7VESDPUVUADXEVJOBGHJPAY.gfortran-win_amd64.dll\n",
      "c:\\Program Files\\Python\\Python38\\lib\\site-packages\\numpy\\.libs\\libopenblas.XWYDX2IKJW2NMTWSFYNGFUWKQU3LYTCZ.gfortran-win_amd64.dll\n",
      "  warnings.warn(\"loaded more than 1 DLL from .libs:\"\n"
     ]
    }
   ],
   "source": [
    "from gpu_rocket import torchrocket\n",
    "import numpy as np\n",
    "import torch"
   ]
  },
  {
   "cell_type": "code",
   "execution_count": 2,
   "metadata": {},
   "outputs": [
    {
     "name": "stdout",
     "output_type": "stream",
     "text": [
      "cpu\n"
     ]
    }
   ],
   "source": [
    "device = torch.device(\"cuda:0\" if torch.cuda.is_available() else \"cpu\")\n",
    "print(device)\n",
    "num_examples = 1\n",
    "num_channels = 20\n",
    "timesteps = 50"
   ]
  },
  {
   "cell_type": "code",
   "execution_count": 3,
   "metadata": {},
   "outputs": [],
   "source": [
    "X = np.random.rand(num_examples,num_channels,timesteps).astype(np.float32)\n",
    "X_torch =torch.from_numpy(X.astype(np.float32)).to(device)"
   ]
  },
  {
   "cell_type": "code",
   "execution_count": 4,
   "metadata": {},
   "outputs": [
    {
     "name": "stderr",
     "output_type": "stream",
     "text": [
      "c:\\Program Files\\Python\\Python38\\lib\\site-packages\\torch\\nn\\modules\\conv.py:120: UserWarning: __floordiv__ is deprecated, and its behavior will change in a future version of pytorch. It currently rounds toward 0 (like the 'trunc' function NOT 'floor'). This results in incorrect rounding for negative values. To keep the current behavior, use torch.div(a, b, rounding_mode='trunc'), or for actual floor division, use torch.div(a, b, rounding_mode='floor').\n",
      "  left_pad = total_padding // 2\n"
     ]
    },
    {
     "name": "stdout",
     "output_type": "stream",
     "text": [
      "\n"
     ]
    }
   ],
   "source": [
    "kernels = torchrocket._generate_kernels_sktime_32bit_version(timesteps, 10_000, num_channels, seed=None)\n",
    "torch_rocket_softPPV_5_gen_kernels = torchrocket.TorchRocket(\n",
    "    num_timesteps=timesteps,num_channels=num_channels,ppv_ver='softPPV',softppv_param=5.,num_kernels=10_000)\n",
    "torch_rocket_softPPV_5_gen_kernels.to(device)\n",
    "torch_rocket_softPPV_5_gen_kernels.eval()\n",
    "torch_rocket_softPPV_5_loaded_kernels = torchrocket.TorchRocket(kernels,ppv_ver='softPPV',softppv_param=5.)\n",
    "torch_rocket_softPPV_5_loaded_kernels.to(device)\n",
    "torch_rocket_softPPV_5_loaded_kernels.eval()\n",
    "print(f'')"
   ]
  },
  {
   "cell_type": "code",
   "execution_count": 5,
   "metadata": {},
   "outputs": [],
   "source": [
    "with torch.no_grad():\n",
    "    out_softPPV_5_gen = torch_rocket_softPPV_5_gen_kernels(X_torch)\n",
    "    out_softPPV_5_loaded = torch_rocket_softPPV_5_loaded_kernels(X_torch)\n"
   ]
  },
  {
   "cell_type": "code",
   "execution_count": 6,
   "metadata": {},
   "outputs": [
    {
     "name": "stdout",
     "output_type": "stream",
     "text": [
      "out_softPPV shape: torch.Size([20000])\n",
      "out_softPPV shape: torch.Size([20000])\n"
     ]
    }
   ],
   "source": [
    "print(f'out_softPPV shape: {out_softPPV_5_gen.shape}')\n",
    "print(f'out_softPPV shape: {out_softPPV_5_loaded.shape}')"
   ]
  }
 ],
 "metadata": {
  "kernelspec": {
   "display_name": "Python 3.8.6 64-bit",
   "language": "python",
   "name": "python3"
  },
  "language_info": {
   "codemirror_mode": {
    "name": "ipython",
    "version": 3
   },
   "file_extension": ".py",
   "mimetype": "text/x-python",
   "name": "python",
   "nbconvert_exporter": "python",
   "pygments_lexer": "ipython3",
   "version": "3.8.6"
  },
  "orig_nbformat": 4,
  "vscode": {
   "interpreter": {
    "hash": "7a96227b8776e9e8b92184c6bd2959aa06e1e0881b6901ba05538acbe1b6a7a4"
   }
  }
 },
 "nbformat": 4,
 "nbformat_minor": 2
}
